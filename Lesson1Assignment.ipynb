{
  "nbformat": 4,
  "nbformat_minor": 0,
  "metadata": {
    "@webio": {
      "lastCommId": null,
      "lastKernelId": null
    },
    "celltoolbar": "Tags",
    "kernelspec": {
      "display_name": "Python 3",
      "language": "python",
      "name": "python3"
    },
    "language_info": {
      "codemirror_mode": {
        "name": "ipython",
        "version": 3
      },
      "file_extension": ".py",
      "mimetype": "text/x-python",
      "name": "python",
      "nbconvert_exporter": "python",
      "pygments_lexer": "ipython3",
      "version": "3.8.12"
    },
    "colab": {
      "name": "Lesson1Assignment.ipynb",
      "provenance": [],
      "include_colab_link": true
    }
  },
  "cells": [
    {
      "cell_type": "markdown",
      "metadata": {
        "id": "view-in-github",
        "colab_type": "text"
      },
      "source": [
        "<a href=\"https://colab.research.google.com/github/sgury9/data_science/blob/dave/Lesson1Assignment.ipynb\" target=\"_parent\"><img src=\"https://colab.research.google.com/assets/colab-badge.svg\" alt=\"Open In Colab\"/></a>"
      ]
    },
    {
      "cell_type": "markdown",
      "metadata": {
        "tags": [
          "intro"
        ],
        "id": "yHEqRAO1i1Yi"
      },
      "source": [
        "# Grading process\n",
        "\n",
        "\n",
        "GA #1 is submitted individually. The submission notebook will be automatically validated with Papermill. The exact command is the following:\n",
        "\n",
        "```bash\n",
        "papermill <notebook-name>.ipynb <notebook-name>-run.ipynb .ipynb -p TEST True\n",
        "```\n",
        "\n",
        "Papermill will inject new cell after each cell tagged as `parameters` (see `View > Cell toolbar > Tags`). Notebook will be executed from top to bottom in a linear order. `solutions.py` contains correct implementations used to validate your solutions, and is only available to instructors and TA's.\n",
        "\n",
        "Please, **fill `STUDENT` variable with your name**, so that we can collect the results automatically. Please, do not change `parameters` (specifically, **do not change `TEST` variable**) and `validation` cells for grader to work correctly. You can, though, use the following clauses to wrap your code outside of `solution` cells:\n",
        "\n",
        "```python\n",
        "if not TEST:\n",
        "    <some code >\n",
        "```\n",
        "\n",
        "Each problem contains specific validation details. You need to fill each cell tagged `solution` with your code. Note, that solution function must be self-contained, i.e. it must not use any state from the notebook itself.\n",
        "\n",
        "Different problems result in different number of points. All problems in the basic section give 1 point, while all problems in intermediate section give 2 points. Total number of points are then divided by maximum number of points (11 in this assignment) and multiplied by 100 to get your final grade (0-100).\n",
        "\n",
        "You may find the following NumPy functions useful:\n",
        "\n",
        "- reduction functions: `np.mean`, `np.std`, `np.max`,\n",
        "- array creation functions: `np.zeros`, `np.arange`, `np.linspace`,\n",
        "- element-wise functions: `np.sin`, `np.isfinite`, `np.clip`,\n",
        "- other functions: `np.argmax`, `np.unique`, `np.column_stack`."
      ]
    },
    {
      "cell_type": "code",
      "metadata": {
        "ExecuteTime": {
          "end_time": "2019-10-30T22:26:04.111972Z",
          "start_time": "2019-10-30T22:26:04.107385Z"
        },
        "id": "y87Ixreei1Yt"
      },
      "source": [
        "import numpy as np"
      ],
      "execution_count": 3,
      "outputs": []
    },
    {
      "cell_type": "code",
      "metadata": {
        "ExecuteTime": {
          "end_time": "2019-10-30T22:26:04.372936Z",
          "start_time": "2019-10-30T22:26:04.364608Z"
        },
        "id": "eel_ihHdi1Yw"
      },
      "source": [
        "STUDENT = \"Shai Yosef Gury\" # use your name here"
      ],
      "execution_count": 4,
      "outputs": []
    },
    {
      "cell_type": "code",
      "metadata": {
        "tags": [
          "parameters"
        ],
        "id": "zzOx-RB2i1Yx"
      },
      "source": [
        "ASSIGNMENT = 1\n",
        "TEST = False"
      ],
      "execution_count": 5,
      "outputs": []
    },
    {
      "cell_type": "code",
      "metadata": {
        "ExecuteTime": {
          "end_time": "2019-10-30T22:39:38.188583Z",
          "start_time": "2019-10-30T22:39:38.182534Z"
        },
        "id": "brzMUOgti1Yy"
      },
      "source": [
        "if TEST:\n",
        "    import solutions\n",
        "    total_grade = 0\n",
        "    MAX_POINTS = 11"
      ],
      "execution_count": 6,
      "outputs": []
    },
    {
      "cell_type": "markdown",
      "metadata": {
        "id": "JqLHDN_ci1Y1"
      },
      "source": [
        "# Basic arrays\n",
        "\n",
        "Problems 1, 2 and 3 cover the correct usage of `np.arange` (or `np.linspace` for that matter), basic masking and vectorized functions (like calculating `sin` of each element of an array in a vectorized manner)."
      ]
    },
    {
      "cell_type": "markdown",
      "metadata": {
        "tags": [
          "problem"
        ],
        "id": "Uy-n3Yx0i1Y2"
      },
      "source": [
        "### 1. Calculate $\\sin(x)$ for $0\\leq x < 2\\pi$ with a step of $0.1$.\n",
        "\n",
        "You need to implement a function, which calculates the required array. The exact values of $x$ are $[0, 0.1, 0.2,\\ldots,6.2]$.\n",
        "\n",
        "Result must be **1-dimensional**, and **will be tested against precomputed values**.\n",
        "\n",
        "Note, that `numpy` provides [constants](https://docs.scipy.org/doc/numpy-1.15.0/reference/constants.html), you can take $\\pi$ from there. "
      ]
    },
    {
      "cell_type": "code",
      "metadata": {
        "ExecuteTime": {
          "end_time": "2019-10-30T22:26:07.100307Z",
          "start_time": "2019-10-30T22:26:07.092132Z"
        },
        "tags": [
          "solution"
        ],
        "colab": {
          "base_uri": "https://localhost:8080/"
        },
        "id": "fWN090B2i1Y3",
        "outputId": "2b389528-7fa2-40c5-804b-20a4d9f8a231"
      },
      "source": [
        "def sin_basic():\n",
        "    # your code goes here\n",
        "    return np.sin(np.arange(0,2*np.pi,0.1))\n",
        "\n",
        "#sin_basic()"
      ],
      "execution_count": 14,
      "outputs": [
        {
          "output_type": "execute_result",
          "data": {
            "text/plain": [
              "array([ 0.        ,  0.09983342,  0.19866933,  0.29552021,  0.38941834,\n",
              "        0.47942554,  0.56464247,  0.64421769,  0.71735609,  0.78332691,\n",
              "        0.84147098,  0.89120736,  0.93203909,  0.96355819,  0.98544973,\n",
              "        0.99749499,  0.9995736 ,  0.99166481,  0.97384763,  0.94630009,\n",
              "        0.90929743,  0.86320937,  0.8084964 ,  0.74570521,  0.67546318,\n",
              "        0.59847214,  0.51550137,  0.42737988,  0.33498815,  0.23924933,\n",
              "        0.14112001,  0.04158066, -0.05837414, -0.15774569, -0.2555411 ,\n",
              "       -0.35078323, -0.44252044, -0.52983614, -0.61185789, -0.68776616,\n",
              "       -0.7568025 , -0.81827711, -0.87157577, -0.91616594, -0.95160207,\n",
              "       -0.97753012, -0.993691  , -0.99992326, -0.99616461, -0.98245261,\n",
              "       -0.95892427, -0.92581468, -0.88345466, -0.83226744, -0.77276449,\n",
              "       -0.70554033, -0.63126664, -0.55068554, -0.46460218, -0.37387666,\n",
              "       -0.2794155 , -0.1821625 , -0.0830894 ])"
            ]
          },
          "metadata": {},
          "execution_count": 14
        }
      ]
    },
    {
      "cell_type": "code",
      "metadata": {
        "ExecuteTime": {
          "end_time": "2019-10-30T22:26:07.334174Z",
          "start_time": "2019-10-30T22:26:07.322103Z"
        },
        "tags": [
          "validation"
        ],
        "id": "DkPPxDDFi1Y4"
      },
      "source": [
        "PROBLEM_ID = 1\n",
        "\n",
        "if TEST:\n",
        "    total_grade += solutions.check(STUDENT, PROBLEM_ID, sin_basic)"
      ],
      "execution_count": 15,
      "outputs": []
    },
    {
      "cell_type": "markdown",
      "metadata": {
        "tags": [
          "problem"
        ],
        "id": "HKnf2Qpoi1Y5"
      },
      "source": [
        "### 2. Create a function, which calculates $n$ values of $\\sin(x)$ for $0\\leq x \\leq 2\\pi$.\n",
        "\n",
        "Both $0$ and $2\\pi$ must be included and $x$ values must be equidistant. Result must be **1-dimensional**, and **will be tested against three random values for $10 \\leq n < 100 $**.\n",
        "\n",
        "Example values to be calculated for $n=3$ are:\n",
        "\n",
        "$$\\sin(0),\\sin(\\pi),\\sin(2\\pi),$$\n",
        "\n",
        "while for $n=5$ we have\n",
        "\n",
        "$$\\sin(0),\\sin(\\pi/2),\\sin(\\pi),\\sin(3\\pi/2), \\sin(2\\pi)$$.\n"
      ]
    },
    {
      "cell_type": "code",
      "metadata": {
        "ExecuteTime": {
          "end_time": "2019-10-30T22:26:08.274476Z",
          "start_time": "2019-10-30T22:26:08.268426Z"
        },
        "tags": [
          "solution"
        ],
        "colab": {
          "base_uri": "https://localhost:8080/"
        },
        "id": "1BnriPoCi1Y6",
        "outputId": "729b0343-7bfa-40a0-d645-50aeced090b7"
      },
      "source": [
        "def sin_enumerated(n):\n",
        "    # your code goes here\n",
        "    return np.linspace(0,np.pi*2,n)\n",
        "\n",
        "#sin_enumerated(3)"
      ],
      "execution_count": 19,
      "outputs": [
        {
          "output_type": "execute_result",
          "data": {
            "text/plain": [
              "array([0.        , 3.14159265, 6.28318531])"
            ]
          },
          "metadata": {},
          "execution_count": 19
        }
      ]
    },
    {
      "cell_type": "code",
      "metadata": {
        "ExecuteTime": {
          "end_time": "2019-10-30T22:26:08.554208Z",
          "start_time": "2019-10-30T22:26:08.542546Z"
        },
        "tags": [
          "validation"
        ],
        "id": "nKS2XAMei1Y7"
      },
      "source": [
        "PROBLEM_ID = 2\n",
        "\n",
        "if TEST:\n",
        "    total_grade += solutions.check(STUDENT, PROBLEM_ID, sin_enumerated)"
      ],
      "execution_count": 20,
      "outputs": []
    },
    {
      "cell_type": "markdown",
      "metadata": {
        "tags": [
          "problem"
        ],
        "id": "eqYTbA1ki1Y8"
      },
      "source": [
        "### 3. Create a function, which calculates $n$ values of truncated $\\sin(x)$ for $0\\leq x \\leq 2\\pi$.\n",
        "\n",
        "Truncated $\\sin(x)$ is defined as the following:\n",
        "\n",
        "$$\n",
        "\\sin_{trunc}(x) =\n",
        "\\left\\{\n",
        "\\begin{array}{l}\n",
        "\\sin(x), \\sin(x)\\geq 0, \\\\\n",
        "0, \\sin(x) < 0.\n",
        "\\end{array}\\right.\n",
        "$$\n",
        "\n",
        "Otherwise, the requirements are the same as in Problem 2."
      ]
    },
    {
      "cell_type": "code",
      "metadata": {
        "ExecuteTime": {
          "end_time": "2019-10-30T22:26:08.950073Z",
          "start_time": "2019-10-30T22:26:08.944541Z"
        },
        "tags": [
          "solution"
        ],
        "colab": {
          "base_uri": "https://localhost:8080/"
        },
        "id": "tLJ3o60oi1Y8",
        "outputId": "8c965f82-81a2-48b4-ed40-1d0f0ecc5cfc"
      },
      "source": [
        "def sin_truncated(n):\n",
        "    # your code goes here\n",
        "    pass\n"
      ],
      "execution_count": 25,
      "outputs": [
        {
          "output_type": "execute_result",
          "data": {
            "text/plain": [
              "True"
            ]
          },
          "metadata": {},
          "execution_count": 25
        }
      ]
    },
    {
      "cell_type": "code",
      "metadata": {
        "ExecuteTime": {
          "end_time": "2019-10-30T22:26:09.170219Z",
          "start_time": "2019-10-30T22:26:09.158251Z"
        },
        "tags": [
          "validation"
        ],
        "id": "oTLeiwONi1Y9"
      },
      "source": [
        "PROBLEM_ID = 3\n",
        "\n",
        "if TEST:\n",
        "    total_grade += solutions.check(STUDENT, PROBLEM_ID, sin_truncated)"
      ],
      "execution_count": null,
      "outputs": []
    },
    {
      "cell_type": "markdown",
      "metadata": {
        "tags": [
          "problem"
        ],
        "id": "BOwU2Fx9i1Y-"
      },
      "source": [
        "### 4. Statistics on multi-dimensional arrays.\n",
        "\n",
        "Given a 3-dimensional array `arr`, calculate mean and standard deviation along dimensions $(1,2)$.\n",
        "\n",
        "For a $N\\times M \\times K$ array `arr`, result must be a **2-dimensional** array of shape $N\\times 2$, with column `0` containing mean values and column `1` containing standard deviations. For example, $(0,0)$ element of the resulting array contains mean of `arr[0]`, while $(1,1)$ contains standard deviation of `arr[1]`.\n",
        "\n",
        "Your solution **will be tested against three random combinations of input array dimensions ($10 \\leq n < 100 $)**. Array values will be drawn from the standard normal distribution (`np.random.randn`).\n",
        "\n",
        "**Hint:** this problem may need to use some universal functions and array combination routines."
      ]
    },
    {
      "cell_type": "code",
      "metadata": {
        "ExecuteTime": {
          "end_time": "2019-10-30T22:26:09.531869Z",
          "start_time": "2019-10-30T22:26:09.523705Z"
        },
        "tags": [
          "solution"
        ],
        "id": "XCiRtqGci1Y_"
      },
      "source": [
        "def array_stats(arr):\n",
        "    # your code goes here\n",
        "    pass"
      ],
      "execution_count": null,
      "outputs": []
    },
    {
      "cell_type": "code",
      "metadata": {
        "ExecuteTime": {
          "end_time": "2019-10-30T22:26:09.716713Z",
          "start_time": "2019-10-30T22:26:09.707934Z"
        },
        "tags": [
          "validation"
        ],
        "id": "G3St7rEQi1ZA"
      },
      "source": [
        "PROBLEM_ID = 4\n",
        "\n",
        "if TEST:\n",
        "    total_grade += solutions.check(STUDENT, PROBLEM_ID, array_stats)"
      ],
      "execution_count": null,
      "outputs": []
    },
    {
      "cell_type": "markdown",
      "metadata": {
        "tags": [
          "problem"
        ],
        "id": "ZuuJtbwRi1ZB"
      },
      "source": [
        "### 5. Class prediction.\n",
        "\n",
        "Given a probability matrix, you need to calculate the exact class, i.e. determine, which probability is the highest for each example. For example, for the following array\n",
        "\n",
        "$$\n",
        "\\left(\n",
        "\\begin{array}{ccc}\n",
        "0.3 && 0.6 && 0.1 \\\\\n",
        "0.8 && 0.05 && 0.15\n",
        "\\end{array}\n",
        "\\right)\n",
        "$$\n",
        "\n",
        "the result must be\n",
        "\n",
        "$$\n",
        "\\left(\n",
        "\\begin{array}{c}\n",
        "1 \\\\\n",
        "0\n",
        "\\end{array}\n",
        "\\right)\n",
        "$$\n",
        "\n",
        "Each row represents an example, and each column represent a probability for corresponding class. For example, element `(0, 1)` represents the probability of example `0` being of class `1`.\n",
        "\n",
        "Note, that result must be **2-dimensional**, such that input array of shape $(N, M)$ is transformed into output array of shape $(N,1)$. Result **will be tested against three random combinations of input array dimensions ($10 \\leq n < 100 $)**. Input array elements are drawn from the standard normal distribution with $\\texttt{softmax}$ applied on top.\n",
        "\n",
        "#### $\\texttt{softmax}$\n",
        "\n",
        "$\\texttt{softmax}$ is used to represent **probabilities** and is often used as an activation function in neural networks for multi-class classification.\n",
        "\n",
        "$\\texttt{softmax}$ activation for a vector is defined as the following:\n",
        "\n",
        "$$\n",
        "\\texttt{softmax} (x_i) = \\frac{e^{x_i}}{\\sum_i e^{x_i}}.\n",
        "$$\n",
        "\n",
        "Correspondingly, a `2D` array is transformed as the following:\n",
        "\n",
        "$$\n",
        "\\texttt{softmax} (x_{ij}) = \\frac{e^{x_{ij}}}{\\sum_j e^{x_{ij}}}.\n",
        "$$\n",
        "\n",
        "\n",
        "\n",
        "For example, an input array \n",
        "\n",
        "$$\n",
        "\\left(\n",
        "\\begin{array}{cc}\n",
        "1 && 6 \\\\\n",
        "4 && 5\n",
        "\\end{array}\n",
        "\\right)\n",
        "$$\n",
        "\n",
        "results in the following $\\texttt{softmax}$ activation:\n",
        "\n",
        "$$\n",
        "\\left(\n",
        "\\begin{array}{cc}\n",
        "\\frac{e^1}{e^1 + e^6} && \\frac{e^6}{e^1 + e^6} \\\\\n",
        "\\frac{e^4}{e^4 + e^5} && \\frac{e^5}{e^4 + e^5}\n",
        "\\end{array}\n",
        "\\right)\n",
        "$$\n",
        "\n",
        "\n",
        "Result may be treated as **probabilistic predictions** of some classification model, as values sum to `1` for each row."
      ]
    },
    {
      "cell_type": "code",
      "metadata": {
        "ExecuteTime": {
          "end_time": "2019-10-30T22:26:10.680534Z",
          "start_time": "2019-10-30T22:26:10.674286Z"
        },
        "tags": [
          "solution"
        ],
        "id": "fIqvi9sti1ZC"
      },
      "source": [
        "def predict(arr):\n",
        "    # your code goes here\n",
        "    pass"
      ],
      "execution_count": null,
      "outputs": []
    },
    {
      "cell_type": "code",
      "metadata": {
        "ExecuteTime": {
          "end_time": "2019-10-30T22:26:10.881238Z",
          "start_time": "2019-10-30T22:26:10.873344Z"
        },
        "tags": [
          "validation"
        ],
        "id": "gcv3GBZsi1ZD"
      },
      "source": [
        "PROBLEM_ID = 5\n",
        "\n",
        "if TEST:\n",
        "    total_grade += solutions.check(STUDENT, PROBLEM_ID, predict)"
      ],
      "execution_count": null,
      "outputs": []
    },
    {
      "cell_type": "markdown",
      "metadata": {
        "id": "XmFNH-c8i1ZE"
      },
      "source": [
        "# Intermediate arrays"
      ]
    },
    {
      "cell_type": "markdown",
      "metadata": {
        "tags": [
          "problem"
        ],
        "id": "rdc3OLpYi1ZF"
      },
      "source": [
        "### 6. One-hot encoding.\n",
        "\n",
        "Given 1-dimensional array of class labels, construct it's one-hot encoded transformation. One-hot encoding of an array of shape $(N,)$ is defined as an array of shape $(N,L)$, such that $e_{ij}$ is $1$ if $i$-th example belongs to class $j$ and $0$ otherwise. $L$ is the number of classes.\n",
        "\n",
        "For example, array $(1,0,3,1,1,1,0)$ is transformed to\n",
        "\n",
        "$$\n",
        "\\left(\n",
        "\\begin{array}{cccc}\n",
        "0 && 1 && 0 && 0\\\\\n",
        "1 && 0 && 0 && 0\\\\\n",
        "0 && 0 && 0 && 1\\\\\n",
        "0 && 1 && 0 && 0\\\\\n",
        "0 && 1 && 0 && 0\\\\\n",
        "0 && 1 && 0 && 0\\\\\n",
        "1 && 0 && 0 && 0\n",
        "\\end{array}\n",
        "\\right)\n",
        "$$\n",
        "\n",
        "Class labels are consequtive integers, hence $L$ corresponds to the largest integer value in the input array. Note, that in the example above we do not have `2` in the input although the result is still $7\\times 4$ with column `2` containing all `0`'s.\n",
        "\n",
        "This function will be tested against three input arrays of random shape $(n,)$ ($10 \\leq n < 100 $) filled with random integers.\n",
        "\n",
        "**Hint:** you may need some fancy indexing."
      ]
    },
    {
      "cell_type": "code",
      "metadata": {
        "ExecuteTime": {
          "end_time": "2019-10-30T22:26:11.485735Z",
          "start_time": "2019-10-30T22:26:11.480300Z"
        },
        "tags": [
          "solution"
        ],
        "id": "GKnkJdY7i1ZG"
      },
      "source": [
        "def onehot(labels):\n",
        "    # your code goes here\n",
        "    pass"
      ],
      "execution_count": null,
      "outputs": []
    },
    {
      "cell_type": "code",
      "metadata": {
        "ExecuteTime": {
          "end_time": "2019-10-30T22:26:11.681172Z",
          "start_time": "2019-10-30T22:26:11.675846Z"
        },
        "tags": [
          "validation"
        ],
        "id": "D5Yvf_i0i1ZH"
      },
      "source": [
        "PROBLEM_ID = 6\n",
        "\n",
        "if TEST:\n",
        "    total_grade += solutions.check(STUDENT, PROBLEM_ID, onehot)"
      ],
      "execution_count": null,
      "outputs": []
    },
    {
      "cell_type": "markdown",
      "metadata": {
        "tags": [
          "problem"
        ],
        "id": "SMzKRshYi1ZI"
      },
      "source": [
        "### 7. Fixing missing values.\n",
        "\n",
        "Given an array, which contains some $NaN$s (not-a-number, represented as `np.nan`), positive and negative infinities (represented as `np.inf`), contruct a \"repaired\" version of that array. All missing or broken values must be replaced by average of valid elements of an array.\n",
        "\n",
        "For example, array $(0., np.nan, 2., np.inf)$ must be transformed to $(0., 1., 2., 1.)$.\n",
        "\n",
        "Input arrays will be drawn from standard normal distribution, with small fraction of values transformed to either `np.nan`, `np.inf` or `-np.inf`.\n",
        "\n",
        "**Hint:** you will need some masking to achieve the goal, as well as `np.isnan` and `np.isinf`."
      ]
    },
    {
      "cell_type": "code",
      "metadata": {
        "ExecuteTime": {
          "end_time": "2019-10-30T22:26:12.413494Z",
          "start_time": "2019-10-30T22:26:12.408306Z"
        },
        "tags": [
          "solution"
        ],
        "id": "EeF6cFhqi1ZJ"
      },
      "source": [
        "def fix(arr):\n",
        "    # your code goes here\n",
        "    pass"
      ],
      "execution_count": null,
      "outputs": []
    },
    {
      "cell_type": "code",
      "metadata": {
        "ExecuteTime": {
          "end_time": "2019-10-30T22:26:12.602616Z",
          "start_time": "2019-10-30T22:26:12.596587Z"
        },
        "tags": [
          "validation"
        ],
        "id": "M7jzot7-i1ZK"
      },
      "source": [
        "PROBLEM_ID = 7\n",
        "\n",
        "if TEST:\n",
        "    total_grade += solutions.check(STUDENT, PROBLEM_ID, fix)"
      ],
      "execution_count": null,
      "outputs": []
    },
    {
      "cell_type": "markdown",
      "metadata": {
        "tags": [
          "problem"
        ],
        "id": "__XZV8mXi1ZR"
      },
      "source": [
        "### 8. Calculate class distribution.\n",
        "\n",
        "Given 1-dimensional array of class labels, calculate occurrence of each class.\n",
        "\n",
        "For example, array $(1,0,3,1,1,1,0)$ is transformed to $(2/7, 4/7, 0, 1/7)$. Class labels are consequtive integers, in the same way as in Problem 7 (note, that class `2` is not present in the input array, but it's occurence, although `0`, is included in the output).\n",
        "\n",
        "Note the ordering and consider using one-hot representation to calculate class counts."
      ]
    },
    {
      "cell_type": "code",
      "metadata": {
        "ExecuteTime": {
          "end_time": "2019-10-30T22:26:13.015372Z",
          "start_time": "2019-10-30T22:26:13.008340Z"
        },
        "tags": [
          "solution"
        ],
        "id": "vwzyW_Xri1ZS"
      },
      "source": [
        "def class_freq(labels):\n",
        "    # your code goes here\n",
        "    pass"
      ],
      "execution_count": null,
      "outputs": []
    },
    {
      "cell_type": "code",
      "metadata": {
        "ExecuteTime": {
          "end_time": "2019-10-30T22:26:13.218968Z",
          "start_time": "2019-10-30T22:26:13.214080Z"
        },
        "tags": [
          "validation"
        ],
        "id": "Jx1wlScFi1ZT"
      },
      "source": [
        "PROBLEM_ID = 8\n",
        "\n",
        "if TEST:\n",
        "    total_grade += solutions.check(STUDENT, PROBLEM_ID, class_freq)"
      ],
      "execution_count": null,
      "outputs": []
    },
    {
      "cell_type": "markdown",
      "metadata": {
        "id": "8ybBV3Cgi1ZV"
      },
      "source": [
        "# Your grade"
      ]
    },
    {
      "cell_type": "code",
      "metadata": {
        "ExecuteTime": {
          "end_time": "2019-10-30T22:39:26.661611Z",
          "start_time": "2019-10-30T22:39:26.654545Z"
        },
        "tags": [
          "validation"
        ],
        "id": "XmontiMyi1ZV"
      },
      "source": [
        "if TEST:\n",
        "    print(f\"{STUDENT}: {int(100 * total_grade / MAX_POINTS)}\")"
      ],
      "execution_count": null,
      "outputs": []
    },
    {
      "cell_type": "code",
      "metadata": {
        "id": "-on4HDyTi1ZX"
      },
      "source": [
        ""
      ],
      "execution_count": null,
      "outputs": []
    }
  ]
}