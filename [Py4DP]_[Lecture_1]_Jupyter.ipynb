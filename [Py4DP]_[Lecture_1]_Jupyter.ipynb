{
  "nbformat": 4,
  "nbformat_minor": 0,
  "metadata": {
    "@webio": {
      "lastCommId": null,
      "lastKernelId": null
    },
    "kernelspec": {
      "display_name": "Python 3",
      "language": "python",
      "name": "python3"
    },
    "language_info": {
      "codemirror_mode": {
        "name": "ipython",
        "version": 3
      },
      "file_extension": ".py",
      "mimetype": "text/x-python",
      "name": "python",
      "nbconvert_exporter": "python",
      "pygments_lexer": "ipython3",
      "version": "3.8.12"
    },
    "toc": {
      "base_numbering": 1,
      "nav_menu": {},
      "number_sections": true,
      "sideBar": true,
      "skip_h1_title": false,
      "title_cell": "Table of Contents",
      "title_sidebar": "Contents",
      "toc_cell": false,
      "toc_position": {},
      "toc_section_display": true,
      "toc_window_display": false
    },
    "colab": {
      "name": "[Py4DP] [Lecture-1] Jupyter.ipynb",
      "provenance": [],
      "include_colab_link": true
    }
  },
  "cells": [
    {
      "cell_type": "markdown",
      "metadata": {
        "id": "view-in-github",
        "colab_type": "text"
      },
      "source": [
        "<a href=\"https://colab.research.google.com/github/sgury9/data_science/blob/dave/%5BPy4DP%5D_%5BLecture_1%5D_Jupyter.ipynb\" target=\"_parent\"><img src=\"https://colab.research.google.com/assets/colab-badge.svg\" alt=\"Open In Colab\"/></a>"
      ]
    },
    {
      "cell_type": "markdown",
      "metadata": {
        "id": "H0byV3JAhA8a"
      },
      "source": [
        "# Jupyter tricks, magics and extensions"
      ]
    },
    {
      "cell_type": "markdown",
      "metadata": {
        "id": "VLtJ5b6IhA8e"
      },
      "source": [
        "## Cells\n",
        "\n",
        "Any Jupyter notebook is organized into **cells**. A cell can be one of several types:\n",
        "- *code* cell, which contains normal Python (or whatever) code,\n",
        "- *Markdown* cell,\n",
        "- *raw content* cell.\n",
        "\n",
        "To execute a cell, press `Shift+Enter` (execute and go to the next cell) or `Ctrl+Enter` (execute and stay in the same cell).\n",
        "\n",
        "Each code cell can have output, which contains whatever is displayed as a result of executing the code inside a cell:"
      ]
    },
    {
      "cell_type": "code",
      "metadata": {
        "ExecuteTime": {
          "end_time": "2019-11-01T08:05:14.124389Z",
          "start_time": "2019-11-01T08:05:14.084339Z"
        },
        "colab": {
          "base_uri": "https://localhost:8080/"
        },
        "id": "6G56jjbFhA8g",
        "outputId": "8e6437f3-01f3-4d45-c5b8-2244a7131637"
      },
      "source": [
        "print(\"This cell prints some text\")\n",
        "a = 5\n",
        "a # prints 5"
      ],
      "execution_count": 1,
      "outputs": [
        {
          "output_type": "stream",
          "name": "stdout",
          "text": [
            "This cell prints some text\n"
          ]
        },
        {
          "output_type": "execute_result",
          "data": {
            "text/plain": [
              "5"
            ]
          },
          "metadata": {},
          "execution_count": 1
        }
      ]
    },
    {
      "cell_type": "code",
      "metadata": {
        "id": "fUnB6VcKhA8i"
      },
      "source": [
        "res = _"
      ],
      "execution_count": 2,
      "outputs": []
    },
    {
      "cell_type": "code",
      "metadata": {
        "colab": {
          "base_uri": "https://localhost:8080/"
        },
        "id": "jrkoTBBkhA8j",
        "outputId": "de9916aa-d65d-46cb-be7b-51f50a2e2c1b"
      },
      "source": [
        "res"
      ],
      "execution_count": 3,
      "outputs": [
        {
          "output_type": "execute_result",
          "data": {
            "text/plain": [
              "5"
            ]
          },
          "metadata": {},
          "execution_count": 3
        }
      ]
    },
    {
      "cell_type": "markdown",
      "metadata": {
        "id": "-N4_wI8RhA8k"
      },
      "source": [
        "Note, that last line is printed to the output. To supress this, use `;`:"
      ]
    },
    {
      "cell_type": "code",
      "metadata": {
        "ExecuteTime": {
          "end_time": "2019-11-01T08:06:44.107467Z",
          "start_time": "2019-11-01T08:06:44.102679Z"
        },
        "id": "GgcrYn97hA8l"
      },
      "source": [
        "a; # prints nothing"
      ],
      "execution_count": 4,
      "outputs": []
    },
    {
      "cell_type": "markdown",
      "metadata": {
        "id": "1M4ZFZNkhA8m"
      },
      "source": [
        "## Modes\n",
        "\n",
        "Jupyter notebook is a **modal editor**: it's behavior differs depending on the mode notebook is in. There are two modes:\n",
        "- **edit mode**, in which you can edit cells,\n",
        "- **command mode**, in which you can execute cell-wide and notebook-wide commands with keyboard shortcuts.\n",
        "\n",
        "To enter edit mode, press `Enter`, while focused on some cell or left click on it. To go to command mode press `Esc`.\n",
        "\n",
        "Note, that one or more cells are always in focus or \"selected\", and cell-wide commands are applied to selected cells."
      ]
    },
    {
      "cell_type": "markdown",
      "metadata": {
        "id": "mvv9R9pwhA8o"
      },
      "source": [
        "## Markdown recap\n",
        "\n",
        "Jupyter allows to mix Markdown text, code, images and many other elements in one interface. Markdown cells help to tell a story about your code and to document it.\n",
        "\n",
        "---\n",
        "\n",
        "### Headers\n",
        "\n",
        "You can create headers with #:\n",
        "\n",
        "`# H1 header` gives\n",
        "\n",
        "# H1 header\n",
        "\n",
        "`# H2 header` gives\n",
        "\n",
        "## H2 header\n",
        "\n",
        "and so on. Feel free to select the cell in edit mode to see the actual markup.\n",
        "\n",
        "---\n",
        "\n",
        "### Lists\n",
        "\n",
        "It's also easy to create ordered list. Just number the items:\n",
        "1. first element,\n",
        "2. second element.\n",
        "\n",
        "Unordered lists are also very straightforward:\n",
        "- element,\n",
        "- another element.\n",
        "\n",
        "---\n",
        "\n",
        "### Emphasis\n",
        "\n",
        "You may often need to emphasize some portion of text. For example, *a priori* (`*a priori*` or `_a priori_`) is usually written in italics. Or, you may decide to **stress something out** (`**stress something out**` or `__stress something out__`). Strikethrough is as simple as ~~this~~ (`~~this~~`).\n",
        "\n",
        "### Code blocks\n",
        "\n",
        "Code can be either `inline` (`` `inline` ``) or in block:\n",
        "\n",
        "```\n",
        "val x: Int = 4\n",
        "```\n",
        "\n",
        "Syntax highlighting? Sure:\n",
        "\n",
        "```scala\n",
        "val x: Int = 4\n",
        "```\n",
        "\n",
        "The former is produced with\n",
        "\n",
        "    ```\n",
        "    val x: Int = 4\n",
        "\n",
        "    ```\n",
        "    \n",
        "while the latter is produced with\n",
        "\n",
        "    ```scala\n",
        "    val x: Int = 4\n",
        "    ```\n",
        "    \n",
        "You can also indent your code with 4 spaces.\n",
        "\n",
        "### Equations\n",
        "\n",
        "If Jupyter is running with MathJax, you can easily create inline ($E=mc^2$) and displayed equations:\n",
        "\n",
        "\\begin{equation}\n",
        "y = \\mathbf{W}\\mathbf{x} + b\n",
        "\\end{equation}"
      ]
    },
    {
      "cell_type": "markdown",
      "metadata": {
        "id": "9AmsKenXhA8s"
      },
      "source": [
        "## Commands and keyboard shortcuts"
      ]
    },
    {
      "cell_type": "markdown",
      "metadata": {
        "id": "zU8pVyhXhA8t"
      },
      "source": [
        "## Keyboard shortcuts for command mode\n",
        "\n",
        "### Generic\n",
        "- `Esc`/`Ctrl+M` - go to command mode.\n",
        "- `Ctrl+S`/`Ctrl+Shift+S` - save/save as.\n",
        "\n",
        "### Change cell type\n",
        "- `Y`: change to code,\n",
        "- `M`: change to Markdown,\n",
        "- `R`: change to raw.\n",
        "\n",
        "### Navigate\n",
        "- `J`/`K` - Down/Up,\n",
        "- `Shift+J`/`Shift+K` - navigate and select.\n",
        "\n",
        "### Inserting, splitting and joining cells\n",
        "- `A`/`B` - insert above/below,\n",
        "- `Shift+M` - merge selected cells.\n",
        "\n",
        "### Copy, paste and delete cells\n",
        "- `C` - copy cells,\n",
        "- `V` - paste cells below,\n",
        "- `D,D` - delete cells.\n",
        "\n",
        "### Interrupt and restart notebook kernel\n",
        "- `I,I` - interrupt,\n",
        "- `0,0` - restart."
      ]
    },
    {
      "cell_type": "markdown",
      "metadata": {
        "id": "McEy633qhA8u"
      },
      "source": [
        "## Magics\n",
        "\n",
        "Some commands in Jupyter come not from Python, but represent additional (and useful) functionality. These commands start with % (for one-liners) or %% (for cell commands) and are called **magic commands**."
      ]
    },
    {
      "cell_type": "code",
      "metadata": {
        "ExecuteTime": {
          "end_time": "2019-11-01T08:16:18.111824Z",
          "start_time": "2019-11-01T08:16:18.099106Z"
        },
        "colab": {
          "base_uri": "https://localhost:8080/",
          "height": 163
        },
        "id": "DwobGBzLhA8v",
        "outputId": "396f6839-9606-4d12-968d-d3953dff4567"
      },
      "source": [
        "# List all available magic commands\n",
        "%lsmagic"
      ],
      "execution_count": 5,
      "outputs": [
        {
          "output_type": "execute_result",
          "data": {
            "application/json": {
              "cell": {
                "prun": "ExecutionMagics",
                "file": "Other",
                "!": "OSMagics",
                "capture": "ExecutionMagics",
                "timeit": "ExecutionMagics",
                "script": "ScriptMagics",
                "pypy": "Other",
                "system": "OSMagics",
                "perl": "Other",
                "html": "DisplayMagics",
                "bash": "Other",
                "shell": "Other",
                "HTML": "Other",
                "python": "Other",
                "SVG": "Other",
                "javascript": "DisplayMagics",
                "bigquery": "Other",
                "js": "DisplayMagics",
                "writefile": "OSMagics",
                "ruby": "Other",
                "python3": "Other",
                "python2": "Other",
                "latex": "DisplayMagics",
                "sx": "OSMagics",
                "svg": "DisplayMagics",
                "sh": "Other",
                "time": "ExecutionMagics",
                "debug": "ExecutionMagics"
              },
              "line": {
                "psource": "NamespaceMagics",
                "logstart": "LoggingMagics",
                "popd": "OSMagics",
                "tensorflow_version": "Other",
                "loadpy": "CodeMagics",
                "colors": "BasicMagics",
                "who_ls": "NamespaceMagics",
                "lf": "Other",
                "ll": "Other",
                "pprint": "BasicMagics",
                "lk": "Other",
                "ls": "Other",
                "save": "CodeMagics",
                "tb": "ExecutionMagics",
                "lx": "Other",
                "pylab": "PylabMagics",
                "killbgscripts": "ScriptMagics",
                "quickref": "BasicMagics",
                "magic": "BasicMagics",
                "dhist": "OSMagics",
                "edit": "KernelMagics",
                "logstop": "LoggingMagics",
                "gui": "BasicMagics",
                "prun": "ExecutionMagics",
                "debug": "ExecutionMagics",
                "page": "BasicMagics",
                "logstate": "LoggingMagics",
                "ed": "Other",
                "pushd": "OSMagics",
                "timeit": "ExecutionMagics",
                "set_env": "OSMagics",
                "rehashx": "OSMagics",
                "hist": "Other",
                "qtconsole": "KernelMagics",
                "rm": "Other",
                "dirs": "OSMagics",
                "run": "ExecutionMagics",
                "reset_selective": "NamespaceMagics",
                "pinfo2": "NamespaceMagics",
                "matplotlib": "PylabMagics",
                "unload_ext": "ExtensionMagics",
                "doctest_mode": "BasicMagics",
                "logoff": "LoggingMagics",
                "reload_ext": "ExtensionMagics",
                "pdb": "ExecutionMagics",
                "load": "CodeMagics",
                "lsmagic": "BasicMagics",
                "autosave": "KernelMagics",
                "cd": "OSMagics",
                "pastebin": "CodeMagics",
                "alias_magic": "BasicMagics",
                "cp": "Other",
                "autocall": "AutoMagics",
                "ldir": "Other",
                "bookmark": "OSMagics",
                "connect_info": "KernelMagics",
                "mkdir": "Other",
                "system": "OSMagics",
                "whos": "NamespaceMagics",
                "rmdir": "Other",
                "automagic": "AutoMagics",
                "store": "StoreMagics",
                "more": "KernelMagics",
                "shell": "Other",
                "pdef": "NamespaceMagics",
                "precision": "BasicMagics",
                "pinfo": "NamespaceMagics",
                "pwd": "OSMagics",
                "psearch": "NamespaceMagics",
                "reset": "NamespaceMagics",
                "recall": "HistoryMagics",
                "xdel": "NamespaceMagics",
                "xmode": "BasicMagics",
                "cat": "Other",
                "mv": "Other",
                "rerun": "HistoryMagics",
                "logon": "LoggingMagics",
                "history": "HistoryMagics",
                "pycat": "OSMagics",
                "pip": "Other",
                "unalias": "OSMagics",
                "env": "OSMagics",
                "load_ext": "ExtensionMagics",
                "config": "ConfigMagics",
                "profile": "BasicMagics",
                "pfile": "NamespaceMagics",
                "less": "KernelMagics",
                "who": "NamespaceMagics",
                "notebook": "BasicMagics",
                "man": "KernelMagics",
                "sx": "OSMagics",
                "macro": "ExecutionMagics",
                "clear": "KernelMagics",
                "alias": "OSMagics",
                "time": "ExecutionMagics",
                "sc": "OSMagics",
                "rep": "Other",
                "pdoc": "NamespaceMagics"
              }
            },
            "text/plain": [
              "Available line magics:\n",
              "%alias  %alias_magic  %autocall  %automagic  %autosave  %bookmark  %cat  %cd  %clear  %colors  %config  %connect_info  %cp  %debug  %dhist  %dirs  %doctest_mode  %ed  %edit  %env  %gui  %hist  %history  %killbgscripts  %ldir  %less  %lf  %lk  %ll  %load  %load_ext  %loadpy  %logoff  %logon  %logstart  %logstate  %logstop  %ls  %lsmagic  %lx  %macro  %magic  %man  %matplotlib  %mkdir  %more  %mv  %notebook  %page  %pastebin  %pdb  %pdef  %pdoc  %pfile  %pinfo  %pinfo2  %pip  %popd  %pprint  %precision  %profile  %prun  %psearch  %psource  %pushd  %pwd  %pycat  %pylab  %qtconsole  %quickref  %recall  %rehashx  %reload_ext  %rep  %rerun  %reset  %reset_selective  %rm  %rmdir  %run  %save  %sc  %set_env  %shell  %store  %sx  %system  %tb  %tensorflow_version  %time  %timeit  %unalias  %unload_ext  %who  %who_ls  %whos  %xdel  %xmode\n",
              "\n",
              "Available cell magics:\n",
              "%%!  %%HTML  %%SVG  %%bash  %%bigquery  %%capture  %%debug  %%file  %%html  %%javascript  %%js  %%latex  %%perl  %%prun  %%pypy  %%python  %%python2  %%python3  %%ruby  %%script  %%sh  %%shell  %%svg  %%sx  %%system  %%time  %%timeit  %%writefile\n",
              "\n",
              "Automagic is ON, % prefix IS NOT needed for line magics."
            ]
          },
          "metadata": {},
          "execution_count": 5
        }
      ]
    },
    {
      "cell_type": "markdown",
      "metadata": {
        "id": "cqk4e6O_hA8w"
      },
      "source": [
        "### Shell magics"
      ]
    },
    {
      "cell_type": "markdown",
      "metadata": {
        "id": "2Hss1JK7hA8w"
      },
      "source": [
        "You can use notebook as a terminal:"
      ]
    },
    {
      "cell_type": "code",
      "metadata": {
        "ExecuteTime": {
          "end_time": "2019-11-01T08:20:03.964370Z",
          "start_time": "2019-11-01T08:20:03.833468Z"
        },
        "colab": {
          "base_uri": "https://localhost:8080/"
        },
        "id": "uY4cYJBOhA8x",
        "outputId": "771cccc9-2b55-475f-aa8f-45bcd29fd58c"
      },
      "source": [
        "!ls -l"
      ],
      "execution_count": 6,
      "outputs": [
        {
          "output_type": "stream",
          "name": "stdout",
          "text": [
            "total 4\n",
            "drwxr-xr-x 1 root root 4096 Oct  8 13:45 sample_data\n"
          ]
        }
      ]
    },
    {
      "cell_type": "code",
      "metadata": {
        "ExecuteTime": {
          "end_time": "2019-11-01T08:21:26.550160Z",
          "start_time": "2019-11-01T08:21:26.530128Z"
        },
        "id": "aFX2TJFwhA8y"
      },
      "source": [
        "#This also works:\n",
        "files = !ls"
      ],
      "execution_count": 7,
      "outputs": []
    },
    {
      "cell_type": "code",
      "metadata": {
        "ExecuteTime": {
          "end_time": "2019-11-01T08:21:26.731042Z",
          "start_time": "2019-11-01T08:21:26.722155Z"
        },
        "colab": {
          "base_uri": "https://localhost:8080/"
        },
        "id": "5D0P78mphA8z",
        "outputId": "85ebecd9-728b-4343-8522-b2a7d619a4bb"
      },
      "source": [
        "files"
      ],
      "execution_count": 8,
      "outputs": [
        {
          "output_type": "execute_result",
          "data": {
            "text/plain": [
              "['sample_data']"
            ]
          },
          "metadata": {},
          "execution_count": 8
        }
      ]
    },
    {
      "cell_type": "markdown",
      "metadata": {
        "id": "LBUW5-3LhA80"
      },
      "source": [
        "### Time your code"
      ]
    },
    {
      "cell_type": "code",
      "metadata": {
        "ExecuteTime": {
          "end_time": "2019-11-01T08:23:24.728069Z",
          "start_time": "2019-11-01T08:23:14.085945Z"
        },
        "colab": {
          "base_uri": "https://localhost:8080/"
        },
        "id": "7mQ8hx7phA80",
        "outputId": "aaeb0576-1dce-4a40-f1a9-b9962206d5da"
      },
      "source": [
        "# Measure code running time, one-liner\n",
        "%timeit [i*i for i in range(10000)]"
      ],
      "execution_count": 9,
      "outputs": [
        {
          "output_type": "stream",
          "name": "stdout",
          "text": [
            "The slowest run took 11.14 times longer than the fastest. This could mean that an intermediate result is being cached.\n",
            "1000 loops, best of 5: 776 µs per loop\n"
          ]
        }
      ]
    },
    {
      "cell_type": "code",
      "metadata": {
        "ExecuteTime": {
          "end_time": "2019-11-01T08:24:06.323342Z",
          "start_time": "2019-11-01T08:24:06.259364Z"
        },
        "colab": {
          "base_uri": "https://localhost:8080/"
        },
        "id": "zeK1HQFBhA81",
        "outputId": "dbc2cd63-00c4-46e1-8753-30b81e0cf00f"
      },
      "source": [
        "# Measure code running time, one-liner, change number of runs and loops\n",
        "%timeit -n 10 -r 3 [i*i for i in range(10000)]"
      ],
      "execution_count": 10,
      "outputs": [
        {
          "output_type": "stream",
          "name": "stdout",
          "text": [
            "10 loops, best of 3: 757 µs per loop\n"
          ]
        }
      ]
    },
    {
      "cell_type": "markdown",
      "metadata": {
        "id": "0tMXiMaXhA81"
      },
      "source": [
        "The same for entire cell:"
      ]
    },
    {
      "cell_type": "code",
      "metadata": {
        "ExecuteTime": {
          "end_time": "2019-11-01T08:26:19.492979Z",
          "start_time": "2019-11-01T08:26:19.410803Z"
        },
        "colab": {
          "base_uri": "https://localhost:8080/"
        },
        "id": "lXEYFbKPhA82",
        "outputId": "e354f0c3-f25b-484b-ff37-2c4b069a1430"
      },
      "source": [
        "%%timeit -n 10 -r 3\n",
        "[i*i for i in range(10000)]"
      ],
      "execution_count": 11,
      "outputs": [
        {
          "output_type": "stream",
          "name": "stdout",
          "text": [
            "10 loops, best of 3: 782 µs per loop\n"
          ]
        }
      ]
    },
    {
      "cell_type": "markdown",
      "metadata": {
        "id": "zJdxtbXRhA83"
      },
      "source": [
        "### Write and load code"
      ]
    },
    {
      "cell_type": "code",
      "metadata": {
        "ExecuteTime": {
          "end_time": "2019-11-01T08:27:43.363125Z",
          "start_time": "2019-11-01T08:27:43.348826Z"
        },
        "colab": {
          "base_uri": "https://localhost:8080/"
        },
        "id": "s3yaYj5DhA84",
        "outputId": "4a0665b3-eaa2-44ae-b93b-343a2379c1ed"
      },
      "source": [
        "%%writefile signaling.py\n",
        "import numpy as np\n",
        "\n",
        "some_global_var = \"Hello!\"\n",
        "\n",
        "def hello_world():\n",
        "    print(\"Welcome to Python for Data Processing!\")\n",
        "    print(\"My name is hello_world and I live in Python module.\")\n",
        "    \n",
        "if __name__==\"__main__\":\n",
        "    hello_world()"
      ],
      "execution_count": 12,
      "outputs": [
        {
          "output_type": "stream",
          "name": "stdout",
          "text": [
            "Writing signaling.py\n"
          ]
        }
      ]
    },
    {
      "cell_type": "code",
      "metadata": {
        "ExecuteTime": {
          "end_time": "2019-11-01T08:28:10.059690Z",
          "start_time": "2019-11-01T08:28:10.050624Z"
        },
        "id": "OAH9salyhA85"
      },
      "source": [
        "%load signaling.py"
      ],
      "execution_count": 13,
      "outputs": []
    },
    {
      "cell_type": "code",
      "metadata": {
        "ExecuteTime": {
          "end_time": "2019-11-01T08:28:42.606121Z",
          "start_time": "2019-11-01T08:28:42.388221Z"
        },
        "colab": {
          "base_uri": "https://localhost:8080/"
        },
        "id": "v4nkcythhA85",
        "outputId": "8edfcd52-9aef-4b2f-e243-fe1a83a13bcb"
      },
      "source": [
        "%run signaling.py"
      ],
      "execution_count": 14,
      "outputs": [
        {
          "output_type": "stream",
          "name": "stdout",
          "text": [
            "Welcome to Python for Data Processing!\n",
            "My name is hello_world and I live in Python module.\n"
          ]
        }
      ]
    },
    {
      "cell_type": "code",
      "metadata": {
        "ExecuteTime": {
          "end_time": "2019-11-01T08:29:15.206773Z",
          "start_time": "2019-11-01T08:29:15.198604Z"
        },
        "colab": {
          "base_uri": "https://localhost:8080/"
        },
        "id": "WCSI7iMnhA86",
        "outputId": "87f4a0a0-9696-4bbd-d69b-ee5721802398"
      },
      "source": [
        "hello_world()"
      ],
      "execution_count": 15,
      "outputs": [
        {
          "output_type": "stream",
          "name": "stdout",
          "text": [
            "Welcome to Python for Data Processing!\n",
            "My name is hello_world and I live in Python module.\n"
          ]
        }
      ]
    },
    {
      "cell_type": "code",
      "metadata": {
        "ExecuteTime": {
          "end_time": "2019-11-01T08:30:06.227881Z",
          "start_time": "2019-11-01T08:30:05.650627Z"
        },
        "colab": {
          "base_uri": "https://localhost:8080/"
        },
        "id": "r23zNhpnhA87",
        "outputId": "f6e44fc9-1414-48a9-f4f5-2df37fd4539a"
      },
      "source": [
        "%run \"[Py4DP] [Lecture-1] Signaling.ipynb\""
      ],
      "execution_count": 16,
      "outputs": [
        {
          "output_type": "stream",
          "name": "stderr",
          "text": [
            "ERROR:root:File `'[Py4DP] [Lecture-1] Signaling.ipynb.py'` not found.\n"
          ]
        }
      ]
    },
    {
      "cell_type": "code",
      "metadata": {
        "ExecuteTime": {
          "end_time": "2019-11-01T08:30:07.019748Z",
          "start_time": "2019-11-01T08:30:07.008541Z"
        },
        "colab": {
          "base_uri": "https://localhost:8080/",
          "height": 171
        },
        "id": "nC2MIwXvhA87",
        "outputId": "032ae32f-0d2f-427b-d6ad-cd70c40dc6dc"
      },
      "source": [
        "signaling_var"
      ],
      "execution_count": 17,
      "outputs": [
        {
          "output_type": "error",
          "ename": "NameError",
          "evalue": "ignored",
          "traceback": [
            "\u001b[0;31m---------------------------------------------------------------------------\u001b[0m",
            "\u001b[0;31mNameError\u001b[0m                                 Traceback (most recent call last)",
            "\u001b[0;32m<ipython-input-17-8d966a499511>\u001b[0m in \u001b[0;36m<module>\u001b[0;34m()\u001b[0m\n\u001b[0;32m----> 1\u001b[0;31m \u001b[0msignaling_var\u001b[0m\u001b[0;34m\u001b[0m\u001b[0;34m\u001b[0m\u001b[0m\n\u001b[0m",
            "\u001b[0;31mNameError\u001b[0m: name 'signaling_var' is not defined"
          ]
        }
      ]
    },
    {
      "cell_type": "code",
      "metadata": {
        "ExecuteTime": {
          "end_time": "2019-11-01T08:30:29.888060Z",
          "start_time": "2019-11-01T08:30:29.855970Z"
        },
        "id": "uKnZ5HR9hA88"
      },
      "source": [
        "?%run"
      ],
      "execution_count": null,
      "outputs": []
    },
    {
      "cell_type": "code",
      "metadata": {
        "ExecuteTime": {
          "end_time": "2019-11-01T08:30:52.131024Z",
          "start_time": "2019-11-01T08:30:52.004565Z"
        },
        "id": "EXaJ0nfBhA88"
      },
      "source": [
        "!rm signaling.py"
      ],
      "execution_count": null,
      "outputs": []
    },
    {
      "cell_type": "markdown",
      "metadata": {
        "id": "6dVihFNxhA89"
      },
      "source": [
        "### Getting help"
      ]
    },
    {
      "cell_type": "code",
      "metadata": {
        "id": "KO_dpYRshA89"
      },
      "source": [
        "?hello_world"
      ],
      "execution_count": null,
      "outputs": []
    },
    {
      "cell_type": "code",
      "metadata": {
        "id": "c0wIOJ2thA8-"
      },
      "source": [
        "?%timeit"
      ],
      "execution_count": null,
      "outputs": []
    },
    {
      "cell_type": "code",
      "metadata": {
        "id": "QWK5CQ29hA8-"
      },
      "source": [
        ""
      ],
      "execution_count": null,
      "outputs": []
    }
  ]
}